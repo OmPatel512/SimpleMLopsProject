{
 "cells": [
  {
   "cell_type": "code",
   "execution_count": 1,
   "id": "7237a124",
   "metadata": {},
   "outputs": [],
   "source": [
    "import os"
   ]
  },
  {
   "cell_type": "code",
   "execution_count": 2,
   "id": "20626828",
   "metadata": {},
   "outputs": [],
   "source": [
    "os.chdir('../')"
   ]
  },
  {
   "cell_type": "code",
   "execution_count": 3,
   "id": "d18dac98",
   "metadata": {},
   "outputs": [
    {
     "data": {
      "text/plain": [
       "'e:\\\\MLs\\\\MLOPS Project\\\\SimpleMLopsProject'"
      ]
     },
     "execution_count": 3,
     "metadata": {},
     "output_type": "execute_result"
    }
   ],
   "source": [
    "%pwd"
   ]
  },
  {
   "cell_type": "code",
   "execution_count": 4,
   "id": "41b80767",
   "metadata": {},
   "outputs": [],
   "source": [
    "os.environ['MLFLOW_TRACKING_URI'] = 'https://dagshub.com/myst1cop4/SimpleMLopsProject.mlflow'\n",
    "os.environ['MLFLOW_TRACKING_USERNAME'] = 'myst1cop4'\n",
    "os.environ['MLFLOW_TRACKING_PASSWORD'] = '157285d8090e255b7d88529c36dde66cd4937f0f'"
   ]
  },
  {
   "cell_type": "code",
   "execution_count": 6,
   "id": "8e8bab53",
   "metadata": {},
   "outputs": [],
   "source": [
    "from dataclasses import dataclass\n",
    "from pathlib import Path\n",
    "\n",
    "@dataclass\n",
    "class ModelEvaluationConfig:\n",
    "    root_dir: Path\n",
    "    model_path: Path\n",
    "    test_data_path: Path\n",
    "    metric_filename: str\n",
    "    all_params: dict\n",
    "    target_column: str\n",
    "    mlflow_uri: str"
   ]
  },
  {
   "cell_type": "code",
   "execution_count": 5,
   "id": "e4d245db",
   "metadata": {},
   "outputs": [],
   "source": [
    "from src.constants import CONFIG_FILE_PATH, PARAMS_FILE_PATH, SCHEMA_FILE_PATH\n",
    "from src.utils.common import read_yaml, create_directories, save_json"
   ]
  },
  {
   "cell_type": "code",
   "execution_count": 7,
   "id": "feece537",
   "metadata": {},
   "outputs": [],
   "source": [
    "class ConfigurationManager:\n",
    "    def __init__(self, config_filepath=CONFIG_FILE_PATH,\n",
    "                 params_filepath=PARAMS_FILE_PATH,\n",
    "                 scherma_filepath=SCHEMA_FILE_PATH):\n",
    "        self.config = read_yaml(config_filepath)\n",
    "        self.params = read_yaml(params_filepath)\n",
    "        self.schema = read_yaml(scherma_filepath)\n",
    "        create_directories([self.config.artifacts_root])\n",
    "\n",
    "    def get_model_evaluation_config(self) -> ModelEvaluationConfig:\n",
    "        config = self.config.model_evaluation\n",
    "        params = self.params.ElasticNet\n",
    "        schema = self.schema.TARGET_COLUMN\n",
    "        \n",
    "        create_directories([config.root_dir])\n",
    "        \n",
    "        model_eval_config = ModelEvaluationConfig(\n",
    "            root_dir=config.root_dir,\n",
    "            model_path=config.model_path,\n",
    "            test_data_path=config.test_data_path,\n",
    "            metric_filename=config.metric_filename,\n",
    "            all_params=params,\n",
    "            target_column=schema.name,\n",
    "            mlflow_uri=schema.MLFLOW_URI\n",
    "        )\n",
    "        \n",
    "        return model_eval_config"
   ]
  },
  {
   "cell_type": "code",
   "execution_count": 8,
   "id": "5489d458",
   "metadata": {},
   "outputs": [],
   "source": [
    "import os\n",
    "import pandas as pd\n",
    "import mlflow\n",
    "import mlflow.sklearn\n",
    "import joblib\n",
    "from urllib.parse import urlparse\n",
    "from sklearn.metrics import mean_squared_error, r2_score\n",
    "import numpy as np\n"
   ]
  },
  {
   "cell_type": "code",
   "execution_count": null,
   "id": "7761afb7",
   "metadata": {},
   "outputs": [],
   "source": [
    "class ModelEvaluation:\n",
    "    def __init__(self, config: ModelEvaluationConfig):\n",
    "        self.config = config\n",
    "        \n",
    "    def eval_metrics(self, actual, pred):\n",
    "        rmse = np.sqrt(mean_squared_error(actual, pred))\n",
    "        r2 = r2_score(actual, pred)\n",
    "        return rmse, r2\n",
    "    \n",
    "    def log_into_mlflow(self):\n",
    "        \n",
    "        test_data = pd.read_csv(self.config.test_data_path)\n",
    "        model = joblib.load(self.config.model_path)\n",
    "        \n",
    "        test_x = test_data.drop(columns=[self.config.target_column], axis=1)\n",
    "        test_y = test_data[[self.config.target_column]]\n",
    "        \n",
    "        mlflow.set_registry_uri\n",
    "        tracking_url_type_store = urlparse(mlflow.get_tracking_uri()).scheme     \n",
    "        \n",
    "        with mlflow.start_run():\n",
    "            \n",
    "            (rmse, r2) = self.eval_metrics(test_y, model.predict(test_x))\n",
    "            \n",
    "            scores = {\n",
    "                \"rmse\": rmse,\n",
    "                \"r2\": r2\n",
    "            }\n",
    "            \n",
    "            save_json(path = Path(self.config.metric_filename), data=scores)\n",
    "            \n",
    "            mlflow.log_params(self.config.all_params)\n",
    "            mlflow.log_metrics(scores)\n",
    "            \n",
    "            if tracking_url_type_store != \"file\":\n",
    "                mlflow.sklearn.log_model(model, \"model\", registered_model_name='ElasticNet')\n",
    "            else:\n",
    "                mlflow.sklearn.log_model(model, \"model\") \n",
    "    \n",
    "    "
   ]
  }
 ],
 "metadata": {
  "kernelspec": {
   "display_name": "Python 3",
   "language": "python",
   "name": "python3"
  },
  "language_info": {
   "codemirror_mode": {
    "name": "ipython",
    "version": 3
   },
   "file_extension": ".py",
   "mimetype": "text/x-python",
   "name": "python",
   "nbconvert_exporter": "python",
   "pygments_lexer": "ipython3",
   "version": "3.10.18"
  }
 },
 "nbformat": 4,
 "nbformat_minor": 5
}
